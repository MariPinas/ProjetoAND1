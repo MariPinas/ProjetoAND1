{
  "cells": [
    {
      "cell_type": "markdown",
      "metadata": {
        "id": "view-in-github",
        "colab_type": "text"
      },
      "source": [
        "<a href=\"https://colab.research.google.com/github/MariPinas/ProjetoAND1/blob/main/notebook/Aula06_data_cleaning.ipynb\" target=\"_parent\"><img src=\"https://colab.research.google.com/assets/colab-badge.svg\" alt=\"Open In Colab\"/></a>"
      ]
    },
    {
      "cell_type": "markdown",
      "metadata": {
        "id": "jwmw0Y0r3oc-"
      },
      "source": [
        "# Projeto I Análise de Dados\n",
        "## Mariana Pereira e Ruhan Garatini\n",
        "\n",
        "Este notebook tem como objetivo realizar a análise completa da base proposta\n",
        "utilizando a base de dados `03_desempenho_estudantil.csv`."
      ],
      "id": "jwmw0Y0r3oc-"
    },
    {
      "cell_type": "markdown",
      "source": [
        "## Desempenho Estudantil\n"
      ],
      "metadata": {
        "id": "LVPLPCHgJaLA"
      },
      "id": "LVPLPCHgJaLA"
    },
    {
      "cell_type": "code",
      "execution_count": null,
      "metadata": {
        "id": "1vRTf-IV3odH"
      },
      "outputs": [],
      "source": [
        "import pandas as pd\n",
        "import numpy as np\n",
        "from sklearn.model_selection import train_test_split\n",
        "from sklearn.linear_model import LinearRegression\n",
        "from sklearn.metrics import mean_squared_error\n",
        "from math import sqrt\n",
        "import seaborn as sns\n",
        "import matplotlib.pyplot as plt\n",
        "from sklearn.metrics import r2_score"
      ],
      "id": "1vRTf-IV3odH"
    },
    {
      "cell_type": "code",
      "execution_count": null,
      "metadata": {
        "id": "edltgb9P3odL"
      },
      "outputs": [],
      "source": [
        "from google.colab import drive\n",
        "drive.mount('/content/drive')\n",
        "\n",
        "path = \"/content/drive/MyDrive/DataScience-2025/03_desempenho_estudantil.csv\"\n",
        "\n",
        "df = pd.read_csv(path, sep=',')\n",
        "df.info()"
      ],
      "id": "edltgb9P3odL"
    },
    {
      "cell_type": "markdown",
      "metadata": {
        "id": "jcBb1ccO3odN"
      },
      "source": [
        "## 1. Verificando a estrutura dos dados"
      ],
      "id": "jcBb1ccO3odN"
    },
    {
      "cell_type": "code",
      "execution_count": null,
      "metadata": {
        "id": "LF2M12m93odO"
      },
      "outputs": [],
      "source": [
        "df.info()"
      ],
      "id": "LF2M12m93odO"
    }
  ],
  "metadata": {
    "kernelspec": {
      "display_name": "Python 3",
      "language": "python",
      "name": "python3"
    },
    "language_info": {
      "name": "python",
      "version": "3.10"
    },
    "colab": {
      "provenance": [],
      "include_colab_link": true
    }
  },
  "nbformat": 4,
  "nbformat_minor": 5
}