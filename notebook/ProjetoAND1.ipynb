{
  "cells": [
    {
      "cell_type": "markdown",
      "metadata": {
        "id": "jwmw0Y0r3oc-"
      },
      "source": [
        "# Projeto I Análise de Dados\n",
        "## Mariana Pereira e Ruhan Garatini\n",
        "\n",
        "Este notebook tem como objetivo realizar a análise completa da base proposta\n",
        "utilizando a base de dados `03_desempenho_estudantil.csv`."
      ],
      "id": "jwmw0Y0r3oc-"
    },
    {
      "cell_type": "markdown",
      "source": [
        "## Desempenho Estudantil\n",
        "\n",
        "### Descrição geral:\n",
        "Contém dados educacionais sobre hábitos, rotinas, apoio familiar e fatores ambientais que ifluenciam o desempenho acadêmico dos estudantes.\n",
        "\n",
        "### Desafios de análise:\n",
        "- Avaliar a influência de sono, motivação e atividades extracurriculares.\n",
        "- Verificar o impacto do nível socioeconômico.\n",
        "- Identificar padrões de sucesso escolar.\n",
        "\n"
      ],
      "metadata": {
        "id": "LVPLPCHgJaLA"
      },
      "id": "LVPLPCHgJaLA"
    },
    {
      "cell_type": "code",
      "execution_count": null,
      "metadata": {
        "id": "1vRTf-IV3odH"
      },
      "outputs": [],
      "source": [
        "import pandas as pd\n",
        "import numpy as np\n",
        "from sklearn.model_selection import train_test_split\n",
        "from sklearn.linear_model import LinearRegression\n",
        "from sklearn.metrics import mean_squared_error\n",
        "from math import sqrt\n",
        "import seaborn as sns\n",
        "import matplotlib.pyplot as plt\n",
        "from sklearn.metrics import r2_score"
      ],
      "id": "1vRTf-IV3odH"
    },
    {
      "cell_type": "code",
      "execution_count": 26,
      "metadata": {
        "id": "edltgb9P3odL",
        "colab": {
          "base_uri": "https://localhost:8080/"
        },
        "outputId": "52ea0450-76bd-43a0-a987-4c0171af25e3"
      },
      "outputs": [
        {
          "output_type": "stream",
          "name": "stdout",
          "text": [
            "Drive already mounted at /content/drive; to attempt to forcibly remount, call drive.mount(\"/content/drive\", force_remount=True).\n"
          ]
        }
      ],
      "source": [
        "from google.colab import drive\n",
        "drive.mount('/content/drive')\n",
        "\n",
        "df = pd.read_csv(\"/content/drive/MyDrive/DataScience-2025/03_desempenho_estudantil.csv\", sep=',')"
      ],
      "id": "edltgb9P3odL"
    },
    {
      "cell_type": "markdown",
      "metadata": {
        "id": "jcBb1ccO3odN"
      },
      "source": [
        "## 1. Análise Inicial da Base\n",
        "\n",
        "#### 1.1 Tema e Contexto Empresarial\n",
        "A base apresenta dados sobre o desempenho dos estudantes em conjunto a dados que podem estar relacionados a ele, dessa forma, é possível analisar e levantar hipóteses sobre estatísticas que podem afetar de forma positiva ou negativa o desempenho de um aluno.\n",
        "\n",
        "#### 1.2 Dicionário de dados traduzido:\n",
        "- Hours_Studied: Horas de estudo semanais.\n",
        "- Attendance: Frequência (%) nas aulas.\n",
        "- Parental_Involvement: Envolvimento dos pais (Baixo, Médio, Alto).\n",
        "- Access_to_Resources: Acesso a recursos educacionais (Baixo, Médio, Alto).\n",
        "- Extracurricular_Activities: Participação em atividades extracurriculares (Sim, Não).\n",
        "- Sleep_Hours: Horas de sono por noite.\n",
        "- Previous_Scores: Desempenho anterior.\n",
        "- Motivation_Level: Motivação do aluno (Baixa, Média, Alta).\n",
        "- Internet_Access: Acesso à internet (Sim, Não).\n",
        "- Tutoring_Sessions: Sessões de reforço por mês.\n",
        "- Family_Income: Renda familiar (Baixa, Média, Alta).\n",
        "- Teacher_Quality: Qualidade dos professores (Baixa, Média, Alta).\n",
        "- School_Type: Tipo de escola (Pública, Privada).\n",
        "- Peer_Influence: Influência dos colegas (Positiva, Neutra, Negativa).\n",
        "- Physical_Activity: Atividade física semanal (horas).\n",
        "- Learning_Disabilities: Dificuldades de aprendizagem (Sim, Não).\n",
        "- Parental_Education_Level: Escolaridade dos pais (Ensino Médio, Superior, Pós).\n",
        "- Distance_from_Home: Distância de casa para a escola.\n",
        "- Gender: Gênero.\n",
        "- Exam_Score: Nota final no exame\n",
        "\n",
        "#### Número de registros: 6607\n"
      ],
      "id": "jcBb1ccO3odN"
    },
    {
      "cell_type": "markdown",
      "source": [
        "#### 1.3 Quantidade de dados nulos em cada variável"
      ],
      "metadata": {
        "id": "VHsdwrPYPV2V"
      },
      "id": "VHsdwrPYPV2V"
    },
    {
      "cell_type": "code",
      "source": [
        "print(f'As variáveis com mais dados faltantes, em porcentagem (%), são:\\n')\n",
        "((df.isnull().sum() / df.shape[0])*100).sort_values(ascending=False)"
      ],
      "metadata": {
        "colab": {
          "base_uri": "https://localhost:8080/",
          "height": 746
        },
        "id": "qa00qgNdNTDo",
        "outputId": "e6ce59f2-c457-4674-d2fe-3d69fe0d5a02"
      },
      "id": "qa00qgNdNTDo",
      "execution_count": 27,
      "outputs": [
        {
          "output_type": "stream",
          "name": "stdout",
          "text": [
            "As variáveis com mais dados faltantes, em porcentagem (%), são:\n",
            "\n"
          ]
        },
        {
          "output_type": "execute_result",
          "data": {
            "text/plain": [
              "Parental_Education_Level      1.362192\n",
              "Teacher_Quality               1.180566\n",
              "Distance_from_Home            1.014076\n",
              "Hours_Studied                 0.000000\n",
              "Access_to_Resources           0.000000\n",
              "Parental_Involvement          0.000000\n",
              "Attendance                    0.000000\n",
              "Extracurricular_Activities    0.000000\n",
              "Motivation_Level              0.000000\n",
              "Internet_Access               0.000000\n",
              "Previous_Scores               0.000000\n",
              "Sleep_Hours                   0.000000\n",
              "Family_Income                 0.000000\n",
              "Tutoring_Sessions             0.000000\n",
              "School_Type                   0.000000\n",
              "Peer_Influence                0.000000\n",
              "Learning_Disabilities         0.000000\n",
              "Physical_Activity             0.000000\n",
              "Gender                        0.000000\n",
              "Exam_Score                    0.000000\n",
              "dtype: float64"
            ],
            "text/html": [
              "<div>\n",
              "<style scoped>\n",
              "    .dataframe tbody tr th:only-of-type {\n",
              "        vertical-align: middle;\n",
              "    }\n",
              "\n",
              "    .dataframe tbody tr th {\n",
              "        vertical-align: top;\n",
              "    }\n",
              "\n",
              "    .dataframe thead th {\n",
              "        text-align: right;\n",
              "    }\n",
              "</style>\n",
              "<table border=\"1\" class=\"dataframe\">\n",
              "  <thead>\n",
              "    <tr style=\"text-align: right;\">\n",
              "      <th></th>\n",
              "      <th>0</th>\n",
              "    </tr>\n",
              "  </thead>\n",
              "  <tbody>\n",
              "    <tr>\n",
              "      <th>Parental_Education_Level</th>\n",
              "      <td>1.362192</td>\n",
              "    </tr>\n",
              "    <tr>\n",
              "      <th>Teacher_Quality</th>\n",
              "      <td>1.180566</td>\n",
              "    </tr>\n",
              "    <tr>\n",
              "      <th>Distance_from_Home</th>\n",
              "      <td>1.014076</td>\n",
              "    </tr>\n",
              "    <tr>\n",
              "      <th>Hours_Studied</th>\n",
              "      <td>0.000000</td>\n",
              "    </tr>\n",
              "    <tr>\n",
              "      <th>Access_to_Resources</th>\n",
              "      <td>0.000000</td>\n",
              "    </tr>\n",
              "    <tr>\n",
              "      <th>Parental_Involvement</th>\n",
              "      <td>0.000000</td>\n",
              "    </tr>\n",
              "    <tr>\n",
              "      <th>Attendance</th>\n",
              "      <td>0.000000</td>\n",
              "    </tr>\n",
              "    <tr>\n",
              "      <th>Extracurricular_Activities</th>\n",
              "      <td>0.000000</td>\n",
              "    </tr>\n",
              "    <tr>\n",
              "      <th>Motivation_Level</th>\n",
              "      <td>0.000000</td>\n",
              "    </tr>\n",
              "    <tr>\n",
              "      <th>Internet_Access</th>\n",
              "      <td>0.000000</td>\n",
              "    </tr>\n",
              "    <tr>\n",
              "      <th>Previous_Scores</th>\n",
              "      <td>0.000000</td>\n",
              "    </tr>\n",
              "    <tr>\n",
              "      <th>Sleep_Hours</th>\n",
              "      <td>0.000000</td>\n",
              "    </tr>\n",
              "    <tr>\n",
              "      <th>Family_Income</th>\n",
              "      <td>0.000000</td>\n",
              "    </tr>\n",
              "    <tr>\n",
              "      <th>Tutoring_Sessions</th>\n",
              "      <td>0.000000</td>\n",
              "    </tr>\n",
              "    <tr>\n",
              "      <th>School_Type</th>\n",
              "      <td>0.000000</td>\n",
              "    </tr>\n",
              "    <tr>\n",
              "      <th>Peer_Influence</th>\n",
              "      <td>0.000000</td>\n",
              "    </tr>\n",
              "    <tr>\n",
              "      <th>Learning_Disabilities</th>\n",
              "      <td>0.000000</td>\n",
              "    </tr>\n",
              "    <tr>\n",
              "      <th>Physical_Activity</th>\n",
              "      <td>0.000000</td>\n",
              "    </tr>\n",
              "    <tr>\n",
              "      <th>Gender</th>\n",
              "      <td>0.000000</td>\n",
              "    </tr>\n",
              "    <tr>\n",
              "      <th>Exam_Score</th>\n",
              "      <td>0.000000</td>\n",
              "    </tr>\n",
              "  </tbody>\n",
              "</table>\n",
              "</div><br><label><b>dtype:</b> float64</label>"
            ]
          },
          "metadata": {},
          "execution_count": 27
        }
      ]
    },
    {
      "cell_type": "markdown",
      "source": [
        "#### 1.4 Removendo os nulos"
      ],
      "metadata": {
        "id": "kMcHXlesP3qm"
      },
      "id": "kMcHXlesP3qm"
    },
    {
      "cell_type": "code",
      "source": [
        "#Remover dados nulos\n",
        "df.dropna(inplace=True)\n",
        "\n",
        "print(f'As variáveis com mais dados faltantes após alteração, em porcentagem (%), são:\\n')\n",
        "((df.isnull().sum() / df.shape[0])*100).sort_values(ascending=False)"
      ],
      "metadata": {
        "colab": {
          "base_uri": "https://localhost:8080/",
          "height": 746
        },
        "id": "ebUcHGYuQAuU",
        "outputId": "47ede95f-73ec-4434-87c2-21043f1981b7"
      },
      "id": "ebUcHGYuQAuU",
      "execution_count": 28,
      "outputs": [
        {
          "output_type": "stream",
          "name": "stdout",
          "text": [
            "As variáveis com mais dados faltantes após alteração, em porcentagem (%), são:\n",
            "\n"
          ]
        },
        {
          "output_type": "execute_result",
          "data": {
            "text/plain": [
              "Hours_Studied                 0.0\n",
              "Attendance                    0.0\n",
              "Parental_Involvement          0.0\n",
              "Access_to_Resources           0.0\n",
              "Extracurricular_Activities    0.0\n",
              "Sleep_Hours                   0.0\n",
              "Previous_Scores               0.0\n",
              "Motivation_Level              0.0\n",
              "Internet_Access               0.0\n",
              "Tutoring_Sessions             0.0\n",
              "Family_Income                 0.0\n",
              "Teacher_Quality               0.0\n",
              "School_Type                   0.0\n",
              "Peer_Influence                0.0\n",
              "Physical_Activity             0.0\n",
              "Learning_Disabilities         0.0\n",
              "Parental_Education_Level      0.0\n",
              "Distance_from_Home            0.0\n",
              "Gender                        0.0\n",
              "Exam_Score                    0.0\n",
              "dtype: float64"
            ],
            "text/html": [
              "<div>\n",
              "<style scoped>\n",
              "    .dataframe tbody tr th:only-of-type {\n",
              "        vertical-align: middle;\n",
              "    }\n",
              "\n",
              "    .dataframe tbody tr th {\n",
              "        vertical-align: top;\n",
              "    }\n",
              "\n",
              "    .dataframe thead th {\n",
              "        text-align: right;\n",
              "    }\n",
              "</style>\n",
              "<table border=\"1\" class=\"dataframe\">\n",
              "  <thead>\n",
              "    <tr style=\"text-align: right;\">\n",
              "      <th></th>\n",
              "      <th>0</th>\n",
              "    </tr>\n",
              "  </thead>\n",
              "  <tbody>\n",
              "    <tr>\n",
              "      <th>Hours_Studied</th>\n",
              "      <td>0.0</td>\n",
              "    </tr>\n",
              "    <tr>\n",
              "      <th>Attendance</th>\n",
              "      <td>0.0</td>\n",
              "    </tr>\n",
              "    <tr>\n",
              "      <th>Parental_Involvement</th>\n",
              "      <td>0.0</td>\n",
              "    </tr>\n",
              "    <tr>\n",
              "      <th>Access_to_Resources</th>\n",
              "      <td>0.0</td>\n",
              "    </tr>\n",
              "    <tr>\n",
              "      <th>Extracurricular_Activities</th>\n",
              "      <td>0.0</td>\n",
              "    </tr>\n",
              "    <tr>\n",
              "      <th>Sleep_Hours</th>\n",
              "      <td>0.0</td>\n",
              "    </tr>\n",
              "    <tr>\n",
              "      <th>Previous_Scores</th>\n",
              "      <td>0.0</td>\n",
              "    </tr>\n",
              "    <tr>\n",
              "      <th>Motivation_Level</th>\n",
              "      <td>0.0</td>\n",
              "    </tr>\n",
              "    <tr>\n",
              "      <th>Internet_Access</th>\n",
              "      <td>0.0</td>\n",
              "    </tr>\n",
              "    <tr>\n",
              "      <th>Tutoring_Sessions</th>\n",
              "      <td>0.0</td>\n",
              "    </tr>\n",
              "    <tr>\n",
              "      <th>Family_Income</th>\n",
              "      <td>0.0</td>\n",
              "    </tr>\n",
              "    <tr>\n",
              "      <th>Teacher_Quality</th>\n",
              "      <td>0.0</td>\n",
              "    </tr>\n",
              "    <tr>\n",
              "      <th>School_Type</th>\n",
              "      <td>0.0</td>\n",
              "    </tr>\n",
              "    <tr>\n",
              "      <th>Peer_Influence</th>\n",
              "      <td>0.0</td>\n",
              "    </tr>\n",
              "    <tr>\n",
              "      <th>Physical_Activity</th>\n",
              "      <td>0.0</td>\n",
              "    </tr>\n",
              "    <tr>\n",
              "      <th>Learning_Disabilities</th>\n",
              "      <td>0.0</td>\n",
              "    </tr>\n",
              "    <tr>\n",
              "      <th>Parental_Education_Level</th>\n",
              "      <td>0.0</td>\n",
              "    </tr>\n",
              "    <tr>\n",
              "      <th>Distance_from_Home</th>\n",
              "      <td>0.0</td>\n",
              "    </tr>\n",
              "    <tr>\n",
              "      <th>Gender</th>\n",
              "      <td>0.0</td>\n",
              "    </tr>\n",
              "    <tr>\n",
              "      <th>Exam_Score</th>\n",
              "      <td>0.0</td>\n",
              "    </tr>\n",
              "  </tbody>\n",
              "</table>\n",
              "</div><br><label><b>dtype:</b> float64</label>"
            ]
          },
          "metadata": {},
          "execution_count": 28
        }
      ]
    }
  ],
  "metadata": {
    "kernelspec": {
      "display_name": "Python 3",
      "language": "python",
      "name": "python3"
    },
    "language_info": {
      "name": "python",
      "version": "3.10"
    },
    "colab": {
      "provenance": []
    }
  },
  "nbformat": 4,
  "nbformat_minor": 5
}